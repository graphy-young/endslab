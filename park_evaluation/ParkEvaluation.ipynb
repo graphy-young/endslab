{
 "cells": [
  {
   "cell_type": "markdown",
   "metadata": {},
   "source": [
    "# Import & Definition"
   ]
  },
  {
   "cell_type": "code",
   "execution_count": 1,
   "metadata": {},
   "outputs": [],
   "source": [
    "import pandas as pd\n",
    "#from bs4 import BeautifulSoup\n",
    "from selenium import webdriver\n",
    "from selenium.webdriver.support.ui import WebDriverWait\n",
    "import os\n",
    "from time import sleep\n",
    "import random\n",
    "import requests\n",
    "import re\n",
    "\n",
    "def logger(*args):\n",
    "    \"\"\"\n",
    "        Print log message with excecuting file name, timestamp.\n",
    "        *** All parameters should be on string-type!\n",
    "    \"\"\"\n",
    "    from datetime import datetime\n",
    "    try: __file__\n",
    "    except NameError:\n",
    "        message = f\"[{str(datetime.now())}] {str(' '.join(args))}\"\n",
    "    else:\n",
    "        message = f\"[{__file__} {str(datetime.now())}] {str(' '.join(args))}\"\n",
    "    print(message)\n",
    "\n",
    "originPath = globals()['_dh'][0]\n",
    "os.chdir(originPath)\n",
    "\n",
    "if not os.path.isfile(\"chromedriver\"):\n",
    "    logger(\"chromedriver not found. try to download from web..\")\n",
    "    url = 'https://chromedriver.storage.googleapis.com/91.0.4472.101/chromedriver_mac64.zip'\n",
    "    r = requests.get(url, allow_redirects=True)\n",
    "    fileName = \"chromedriver_macOS.zip\"\n",
    "    with open(fileName, 'wb') as f:\n",
    "        f.write(r.content)\n",
    "    os.system(f\"unzip {fileName}\")\n",
    "    os.remove(fileName)\n",
    "    logger(\"Get chromedriver from External source successfully done!\")\n",
    "else:\n",
    "    pass"
   ]
  },
  {
   "cell_type": "markdown",
   "metadata": {},
   "source": [
    "# Data collection\n",
    "\n",
    "Get test data from Google Map"
   ]
  },
  {
   "cell_type": "code",
   "execution_count": 3,
   "metadata": {},
   "outputs": [
    {
     "name": "stdout",
     "output_type": "stream",
     "text": [
      "[2021-07-02 20:33:14.298731] name: \n",
      "rating: 4.4\n",
      "number of reviews: 4815\n",
      "[2021-07-02 20:33:14.325064] day: 금요일\n"
     ]
    }
   ],
   "source": [
    "# 서울대공원\n",
    "targetURL = \"https://www.google.com/maps/place/%EC%97%AC%EC%9D%98%EB%8F%84%EA%B3%B5%EC%9B%90/@37.5238202,126.9167273,17z/data=!3m1!4b1!4m5!3m4!1s0x357c9f227cb7d1c1:0x106cea0f2a17ac4e!8m2!3d37.523816!4d126.918916\"\n",
    "\n",
    "#options = webdriver.ChromeOptions()\n",
    "#options.add_argument(\"headless\") #without window\n",
    "#options.add_argument(\"window-size=1920x1080\")\n",
    "#options.add_argument(\"disable-gpu\")\n",
    "driver = webdriver.Chrome(executable_path='./chromedriver')#, chrome_options=options)\n",
    "# self.driver = webdriver.PhantomJS('../bin/phantomjs')\n",
    "driver.set_page_load_timeout(30)\n",
    "#self.driver.implicitly_wait()\n",
    "\n",
    "driver.get(targetURL)\n",
    "WebDriverWait(driver, 10)\n",
    "\n",
    "# Get place information\n",
    "parkName = driver.find_element_by_css_selector('#pane > div > div.widget-pane-content.cYB2Ge-oHo7ed > div > div > div.x3AX1-LfntMc-header-title > div.x3AX1-LfntMc-header-title-ma6Yeb-haAclf > div.x3AX1-LfntMc-header-title-ij8cu > div:nth-child(1) > h1 > span:nth-child(1)').text\n",
    "rating = driver.find_element_by_css_selector('#pane > div > div.widget-pane-content.cYB2Ge-oHo7ed > div > div > div.x3AX1-LfntMc-header-title > div.x3AX1-LfntMc-header-title-ma6Yeb-haAclf > div.x3AX1-LfntMc-header-title-ij8cu > div.x3AX1-LfntMc-header-title-ij8cu-haAclf > div > div.gm2-body-2.h0ySl-wcwwM-RWgCYc > div.OAO0-ZEhYpd-vJ7A6b.OAO0-ZEhYpd-vJ7A6b-qnnXGd > span > span > span').text\n",
    "numReviews = driver.find_element_by_css_selector('#pane > div > div.widget-pane-content.cYB2Ge-oHo7ed > div > div > div.x3AX1-LfntMc-header-title > div.x3AX1-LfntMc-header-title-ma6Yeb-haAclf > div.x3AX1-LfntMc-header-title-ij8cu > div.x3AX1-LfntMc-header-title-ij8cu-haAclf > div > div.gm2-body-2.h0ySl-wcwwM-RWgCYc > span:nth-child(3) > span > span > span.OAO0-ZEhYpd-vJ7A6b.OAO0-ZEhYpd-vJ7A6b-qnnXGd > span:nth-child(1) > button').text.replace(\",\", '')\n",
    "numReviews = int(re.findall(\"\\d+\", numReviews)[0]) # Exctract digit in returned text like \"리뷰 x,xxx개\", \"x,xxx reviews\"\n",
    "logger(f\"name: {parkName}\\nrating: {rating}\\nnumber of reviews: {numReviews}\")\n",
    "\n",
    "day = driver.find_element_by_xpath('//*[@id=\":f\"]').text\n",
    "logger(f\"day: {day}\")\n",
    "\n",
    "\n",
    "#driver.close()"
   ]
  },
  {
   "cell_type": "code",
   "execution_count": 12,
   "metadata": {},
   "outputs": [
    {
     "name": "stdout",
     "output_type": "stream",
     "text": [
      "<selenium.webdriver.remote.webelement.WebElement (session=\"8250ffe5f416c99dd9498e74d061de9f\", element=\"bbbe8e73-010d-439c-9e55-613e75e27130\")>\n",
      "<selenium.webdriver.remote.webelement.WebElement (session=\"8250ffe5f416c99dd9498e74d061de9f\", element=\"a5e890dc-3c59-42fb-ad2d-a23db4485815\")>\n",
      "<selenium.webdriver.remote.webelement.WebElement (session=\"8250ffe5f416c99dd9498e74d061de9f\", element=\"07acc24f-c5da-45ae-8b8c-89ffaf31537c\")>\n",
      "<selenium.webdriver.remote.webelement.WebElement (session=\"8250ffe5f416c99dd9498e74d061de9f\", element=\"b1460399-60ac-47e8-8ebd-51092a7bdaeb\")>\n",
      "<selenium.webdriver.remote.webelement.WebElement (session=\"8250ffe5f416c99dd9498e74d061de9f\", element=\"fc84fc31-0c0c-43b5-9fb3-787e7b3ba280\")>\n",
      "<selenium.webdriver.remote.webelement.WebElement (session=\"8250ffe5f416c99dd9498e74d061de9f\", element=\"7b6f0ad5-4a63-43c6-b9de-f17076870a0c\")>\n",
      "<selenium.webdriver.remote.webelement.WebElement (session=\"8250ffe5f416c99dd9498e74d061de9f\", element=\"17c29e24-4bc9-4b39-91fb-876cbb9bd6c7\")>\n",
      "<selenium.webdriver.remote.webelement.WebElement (session=\"8250ffe5f416c99dd9498e74d061de9f\", element=\"abda0190-b428-447b-ad5e-6c7fdb32e824\")>\n",
      "<selenium.webdriver.remote.webelement.WebElement (session=\"8250ffe5f416c99dd9498e74d061de9f\", element=\"a72f6c09-e73f-48a3-b368-21d86716b631\")>\n",
      "<selenium.webdriver.remote.webelement.WebElement (session=\"8250ffe5f416c99dd9498e74d061de9f\", element=\"0a7fe226-4243-422b-95b2-6d1c7f0a0d01\")>\n",
      "<selenium.webdriver.remote.webelement.WebElement (session=\"8250ffe5f416c99dd9498e74d061de9f\", element=\"f179b431-bbc6-4983-869f-e154bb8bc7d2\")>\n",
      "<selenium.webdriver.remote.webelement.WebElement (session=\"8250ffe5f416c99dd9498e74d061de9f\", element=\"8c6b83ce-dcac-4ab7-b885-7b40a33de16b\")>\n",
      "<selenium.webdriver.remote.webelement.WebElement (session=\"8250ffe5f416c99dd9498e74d061de9f\", element=\"6c507791-bded-40a5-8309-d09cfaf1960c\")>\n",
      "<selenium.webdriver.remote.webelement.WebElement (session=\"8250ffe5f416c99dd9498e74d061de9f\", element=\"5095e336-5b8e-4ad0-8ea9-2e4c9936dc8e\")>\n",
      "<selenium.webdriver.remote.webelement.WebElement (session=\"8250ffe5f416c99dd9498e74d061de9f\", element=\"aaed8ee6-baf1-4122-9da9-44af4eed74cd\")>\n",
      "<selenium.webdriver.remote.webelement.WebElement (session=\"8250ffe5f416c99dd9498e74d061de9f\", element=\"a2243f43-37f6-4d79-a18d-64c1dfc997d4\")>\n",
      "<selenium.webdriver.remote.webelement.WebElement (session=\"8250ffe5f416c99dd9498e74d061de9f\", element=\"e2f7b684-e1fd-4471-ab41-b4becef05a1c\")>\n",
      "<selenium.webdriver.remote.webelement.WebElement (session=\"8250ffe5f416c99dd9498e74d061de9f\", element=\"6cbd5326-996f-487b-9e7f-b38bea9b8216\")>\n",
      "<selenium.webdriver.remote.webelement.WebElement (session=\"8250ffe5f416c99dd9498e74d061de9f\", element=\"d5890653-69bf-4b5b-aeb7-02fd6578fbfb\")>\n",
      "<selenium.webdriver.remote.webelement.WebElement (session=\"8250ffe5f416c99dd9498e74d061de9f\", element=\"b6b99f62-c581-42d2-81c8-9eaae71b6dd1\")>\n",
      "<selenium.webdriver.remote.webelement.WebElement (session=\"8250ffe5f416c99dd9498e74d061de9f\", element=\"2001d81b-f489-478d-b951-9f8eda47722c\")>\n",
      "<selenium.webdriver.remote.webelement.WebElement (session=\"8250ffe5f416c99dd9498e74d061de9f\", element=\"58369117-4584-43ee-8703-09788aad4a3f\")>\n",
      "<selenium.webdriver.remote.webelement.WebElement (session=\"8250ffe5f416c99dd9498e74d061de9f\", element=\"0caf867b-b204-4173-abfd-12112cface84\")>\n",
      "<selenium.webdriver.remote.webelement.WebElement (session=\"8250ffe5f416c99dd9498e74d061de9f\", element=\"38f1f607-54ab-4be8-bcaf-7fc4b1344aca\")>\n",
      "<selenium.webdriver.remote.webelement.WebElement (session=\"8250ffe5f416c99dd9498e74d061de9f\", element=\"a5fd8b2f-1bba-4abe-84ca-dbde8a57c891\")>\n",
      "<selenium.webdriver.remote.webelement.WebElement (session=\"8250ffe5f416c99dd9498e74d061de9f\", element=\"c3df5436-bd38-4dbc-b349-ac9b8a8b1e4f\")>\n"
     ]
    }
   ],
   "source": [
    "a = driver.find_elements_by_css_selector('#pane > div > div.widget-pane-content.cYB2Ge-oHo7ed > div > div > div.section-popular-times > div.section-popular-times-container > div:nth-child(6) > div.section-popular-times-graph.section-popular-times-graph-visible > div')\n",
    "for i in a: print(i)"
   ]
  }
 ],
 "metadata": {
  "interpreter": {
   "hash": "7af960f18078d8359ed906e25fff7f1e56ad9156f24acd16c1513f275bcdfe7c"
  },
  "kernelspec": {
   "display_name": "Python 3.8.5 64-bit ('base': conda)",
   "name": "python3"
  },
  "language_info": {
   "codemirror_mode": {
    "name": "ipython",
    "version": 3
   },
   "file_extension": ".py",
   "mimetype": "text/x-python",
   "name": "python",
   "nbconvert_exporter": "python",
   "pygments_lexer": "ipython3",
   "version": "3.8.5"
  },
  "orig_nbformat": 4
 },
 "nbformat": 4,
 "nbformat_minor": 2
}