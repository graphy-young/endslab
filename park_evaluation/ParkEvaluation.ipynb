{
 "cells": [
  {
   "cell_type": "markdown",
   "metadata": {},
   "source": [
    "# Import & Definition"
   ]
  },
  {
   "cell_type": "code",
   "execution_count": 1,
   "metadata": {},
   "outputs": [
    {
     "name": "stdout",
     "output_type": "stream",
     "text": [
      "[2021-07-03 23:28:44.158669] chromedriver not found. try to download from web..\n",
      "[2021-07-03 23:28:57.312334] Get chromedriver from External source successfully done!\n"
     ]
    }
   ],
   "source": [
    "import pandas as pd\n",
    "#from bs4 import BeautifulSoup\n",
    "from selenium import webdriver\n",
    "from selenium.webdriver.support.ui import WebDriverWait\n",
    "import os\n",
    "from time import sleep\n",
    "import random\n",
    "import requests\n",
    "import re\n",
    "\n",
    "def logger(*args):\n",
    "    \"\"\"\n",
    "        Print log message with excecuting file name, timestamp.\n",
    "        *** All parameters should be on string-type!\n",
    "    \"\"\"\n",
    "    from datetime import datetime\n",
    "    try: __file__\n",
    "    except NameError:\n",
    "        message = f\"[{str(datetime.now())}] {str(' '.join(args))}\"\n",
    "    else:\n",
    "        message = f\"[{__file__} {str(datetime.now())}] {str(' '.join(args))}\"\n",
    "    print(message)\n",
    "\n",
    "originPath = globals()['_dh'][0]\n",
    "os.chdir(originPath)\n",
    "\n",
    "if not os.path.isfile(\"chromedriver\"):\n",
    "    logger(\"chromedriver not found. try to download from web..\")\n",
    "    url = 'https://chromedriver.storage.googleapis.com/91.0.4472.101/chromedriver_mac64.zip'\n",
    "    r = requests.get(url, allow_redirects=True)\n",
    "    fileName = \"chromedriver_macOS.zip\"\n",
    "    with open(fileName, 'wb') as f:\n",
    "        f.write(r.content)\n",
    "    os.system(f\"unzip {fileName}\")\n",
    "    os.remove(fileName)\n",
    "    logger(\"Get chromedriver from External source successfully done!\")\n",
    "else:\n",
    "    pass"
   ]
  },
  {
   "cell_type": "markdown",
   "metadata": {},
   "source": [
    "# Data collection\n",
    "\n",
    "Get test data from Google Map"
   ]
  },
  {
   "cell_type": "code",
   "execution_count": 5,
   "metadata": {},
   "outputs": [
    {
     "name": "stdout",
     "output_type": "stream",
     "text": [
      "[2021-07-03 23:32:00.502522] name: 여의도공원\n",
      "rating: 4.4\n",
      "number of reviews: 4\n",
      "[2021-07-03 23:32:00.516938] day: 토요일\n"
     ]
    }
   ],
   "source": [
    "# 서울대공원\n",
    "targetURL = \"https://www.google.com/maps/place/%EC%97%AC%EC%9D%98%EB%8F%84%EA%B3%B5%EC%9B%90/@37.5238202,126.9167273,17z/data=!3m1!4b1!4m5!3m4!1s0x357c9f227cb7d1c1:0x106cea0f2a17ac4e!8m2!3d37.523816!4d126.918916\"\n",
    "\n",
    "#options = webdriver.ChromeOptions()\n",
    "#options.add_ar.textgument(\"headless\") #without window\n",
    "#options.add_argument(\"window-size=1920x1080\")\n",
    "#options.add_argument(\"disable-gpu\")\n",
    "driver = webdriver.Chrome(executable_path='./chromedriver')#, chrome_options=options)\n",
    "# self.driver = webdriver.PhantomJS('../bin/phantomjs')\n",
    "driver.set_page_load_timeout(30)\n",
    "#self.driver.implicitly_wait()\n",
    "\n",
    "driver.get(targetURL)\n",
    "WebDriverWait(driver, 10)\n",
    "\n",
    "# Get place information\n",
    "parkName = driver.find_element_by_xpath('/html/body/jsl/div[3]/div[9]/div[8]/div/div[1]/div/div/div[2]/div[1]/div[1]/div[1]/h1/span[1]').text\n",
    "rating = driver.find_element_by_xpath('/html/body/jsl/div[3]/div[9]/div[8]/div/div[1]/div/div/div[2]/div[1]/div[1]/div[2]/div/div[1]/div[2]/span/span/span').text\n",
    "numReviews = driver.find_element_by_xpath('/html/body/jsl/div[3]/div[9]/div[8]/div/div[1]/div/div/div[2]/div[1]/div[1]/div[2]/div/div[1]/div[2]/span/span/span').text.replace(\",\", '')\n",
    "numReviews = int(re.findall(\"\\d+\", numReviews)[0]) # Exctract digit in returned text like \"리뷰 x,xxx개\", \"x,xxx reviews\"\n",
    "logger(f\"name: {parkName}\\nrating: {rating}\\nnumber of reviews: {numReviews}\")\n",
    "\n",
    "day = driver.find_element_by_xpath('//*[@id=\":7\"]').text\n",
    "logger(f\"day: {day}\")\n",
    "\n",
    "\n",
    "#driver.close()"
   ]
  },
  {
   "cell_type": "code",
   "execution_count": 6,
   "metadata": {},
   "outputs": [
    {
     "name": "stdout",
     "output_type": "stream",
     "text": [
      "None\n",
      "None\n",
      "오전 4시에 붐비는 정도 1%\n",
      "오전 5시에 붐비는 정도 1%\n",
      "오전 6시에 붐비는 정도 1%\n",
      "오전 7시에 붐비는 정도 1%\n",
      "오전 8시에 붐비는 정도 3%\n",
      "오전 9시에 붐비는 정도 7%\n",
      "오전 10시에 붐비는 정도 12%\n",
      "오전 11시에 붐비는 정도 16%\n",
      "오후 12시에 붐비는 정도 21%\n",
      "오후 1시에 붐비는 정도 25%\n",
      "오후 2시에 붐비는 정도 29%\n",
      "오후 3시에 붐비는 정도 31%\n",
      "오후 4시에 붐비는 정도 32%\n",
      "오후 5시에 붐비는 정도 31%\n",
      "오후 6시에 붐비는 정도 27%\n",
      "오후 7시에 붐비는 정도 22%\n",
      "오후 8시에 붐비는 정도 16%\n",
      "오후 9시에 붐비는 정도 9%\n",
      "오후 10시에 붐비는 정도 3%\n",
      "현재 붐비는 정도 7%(일반적으로는 1%)\n",
      "오전 12시에 붐비는 정도 1%\n",
      "오전 1시에 붐비는 정도 1%\n",
      "오전 2시에 붐비는 정도 1%\n",
      "오전 3시에 붐비는 정도 1%\n"
     ]
    }
   ],
   "source": [
    "a = driver.find_elements_by_css_selector('#pane > div > div.widget-pane-content.cYB2Ge-oHo7ed > div > div > div.section-popular-times > div.section-popular-times-container > div:nth-child(7) > div.section-popular-times-graph.section-popular-times-graph-visible > div')\n",
    "for i in a:\n",
    "    b = i.get_attribute('aria-label')\n",
    "    print(b)\n",
    "\n",
    "# 영문, 한글 대비 코드 작성하기"
   ]
  }
 ],
 "metadata": {
  "interpreter": {
   "hash": "7af960f18078d8359ed906e25fff7f1e56ad9156f24acd16c1513f275bcdfe7c"
  },
  "kernelspec": {
   "display_name": "Python 3.8.5 64-bit ('base': conda)",
   "name": "python3"
  },
  "language_info": {
   "codemirror_mode": {
    "name": "ipython",
    "version": 3
   },
   "file_extension": ".py",
   "mimetype": "text/x-python",
   "name": "python",
   "nbconvert_exporter": "python",
   "pygments_lexer": "ipython3",
   "version": "3.8.5"
  },
  "orig_nbformat": 4
 },
 "nbformat": 4,
 "nbformat_minor": 2
}