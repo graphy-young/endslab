{
  "nbformat": 4,
  "nbformat_minor": 0,
  "metadata": {
    "colab": {
      "name": "openapi_nifos_analysis.ipynb",
      "provenance": [],
      "collapsed_sections": [],
      "authorship_tag": "ABX9TyP0V+mwJkoBRNjM3IGitAwY",
      "include_colab_link": true
    },
    "kernelspec": {
      "name": "python3",
      "display_name": "Python 3"
    },
    "language_info": {
      "name": "python"
    }
  },
  "cells": [
    {
      "cell_type": "markdown",
      "metadata": {
        "id": "view-in-github",
        "colab_type": "text"
      },
      "source": [
        "<a href=\"https://colab.research.google.com/github/graphy-young/endslab/blob/main/2022/research/openapi_nifos_analysis.ipynb\" target=\"_parent\"><img src=\"https://colab.research.google.com/assets/colab-badge.svg\" alt=\"Open In Colab\"/></a>"
      ]
    },
    {
      "cell_type": "markdown",
      "source": [
        "# Initialize notebook"
      ],
      "metadata": {
        "id": "T6BnyucVrufz"
      }
    },
    {
      "cell_type": "markdown",
      "source": [
        "### Import requirements"
      ],
      "metadata": {
        "id": "AXHJrMaHsyzH"
      }
    },
    {
      "cell_type": "code",
      "source": [
        "!pip install ipython-autotime pyblaze\n",
        "%load_ext autotime"
      ],
      "metadata": {
        "id": "mRS_K1_AMcxx"
      },
      "execution_count": null,
      "outputs": []
    },
    {
      "cell_type": "code",
      "source": [
        "import requests, json\n",
        "import pandas as pd\n",
        "from pprint import pprint\n",
        "import pyblaze.multiprocessing as xmp"
      ],
      "metadata": {
        "id": "OWrVlq7yEfSd",
        "colab": {
          "base_uri": "https://localhost:8080/"
        },
        "outputId": "00136d05-3018-4f16-d713-89ee5fc02e57"
      },
      "execution_count": 17,
      "outputs": [
        {
          "output_type": "stream",
          "name": "stdout",
          "text": [
            "time: 2.09 ms (started: 2022-06-30 04:50:32 +00:00)\n"
          ]
        }
      ]
    },
    {
      "cell_type": "markdown",
      "source": [
        "## Define constants & variables"
      ],
      "metadata": {
        "id": "bxEBInwPruC7"
      }
    },
    {
      "cell_type": "markdown",
      "source": [
        "### Load connection info from Google Drive"
      ],
      "metadata": {
        "id": "uQuLoSU97vW-"
      }
    },
    {
      "cell_type": "code",
      "source": [
        "from google.colab import drive\n",
        "\n",
        "drive_path = \"/content/drive\" \n",
        "drive.mount(drive_path)\n",
        "\n",
        "json_path = f\"{drive_path}/MyDrive/Colab Notebooks/ENDS_LAB/openapi.json\"\n",
        "open_api = json.load(open(json_path, 'r'))"
      ],
      "metadata": {
        "id": "Bgj5uCoU8Phy"
      },
      "execution_count": null,
      "outputs": []
    },
    {
      "cell_type": "markdown",
      "source": [
        "### 산림청 국립산림과학원_청정넷_측정데이터 (AicanDustData)"
      ],
      "metadata": {
        "id": "4oVh1k_3sN5T"
      }
    },
    {
      "cell_type": "code",
      "source": [
        "### Documentation -> https://www.data.go.kr/data/15080316/fileData.do\n",
        "\n",
        "nifos_measurement = dict()\n",
        "nifos_measurement[\"OPENAPI_URL\"] = open_api[\"nifos_msmt\"][\"endpoint\"]\n",
        "nifos_measurement[\"API_KEY_ENCODED\"] = open_api[\"nifos_msmt\"][\"key\"] # Insert your Open API encoded key\n",
        "nifos_measurement[\"API_KEY_DECODED\"] = requests.utils.unquote(nifos_measurement[\"API_KEY_ENCODED\"])\n",
        "nifos_measurement[\"QUOTA_LIMIT\"] = 180000\n",
        "\n",
        "nifos_measurement[\"column_list\"] = [\"measured_datetime\", # obsrt_dtm, 관측일시\n",
        "                                \"temperature\", # obsrt_dtm, 관측_온도\n",
        "                                \"avoc_pm01\", # obsrt_dtm, 관측_습도\n",
        "                                \"wind_speed\", # obsrt_ws, 관측_풍속\n",
        "                                \"pm10\", # obsrt_pm10_val, 관측_미세먼지\n",
        "                                \"pm25\", # obsrt_pm25_val, 관측_초미세먼지\n",
        "                                \"avoc_pm10\", # avoc_obsrt_pm10_val, AVOC_관측_미세먼지\n",
        "                                \"avoc_pm25\", # avoc_obsrt_pm25_val, AVOC_관측_초미세먼지\n",
        "                                \"relative_humidity\", # obsrt_hmdt, 관측_습도\n",
        "                                \"pm01\", # obsrt_pm01_val, 관측_극초미세먼지\n",
        "                                \"station_code\", # obsrr_tpcd, 관측소_구분코드\n",
        "                                \"wind_direction\" # obsrt_wndrc_val, 관측_풍향\n",
        "                                ]\n",
        "\n",
        "nifos_measurement[\"parameters\"] = {\n",
        "    'serviceKey' : nifos_measurement[\"API_KEY_DECODED\"], # API Authorizaiton key\n",
        "    'pageNo' : '1', # Page number (Default: 1)\n",
        "    'numOfRows' : str(nifos_measurement['QUOTA_LIMIT']), # Result row numbers per a page (Default: 10) ++ Rate exceed threshold 최대 약 18만건?\n",
        "    'contentType' : 'JSON' # Response data type (xml, json / Default: xml)\n",
        "    } # Make request as 'between' using \"endDt\" same format as startDt \n",
        "    #'startDt' : '202104010000', # yyyyMMddHHmmss (Default: None)\n",
        "\n",
        "pprint(nifos_measurement)"
      ],
      "metadata": {
        "id": "0nUl0UIqsGVG"
      },
      "execution_count": null,
      "outputs": []
    },
    {
      "cell_type": "markdown",
      "source": [
        "### 산림청 국립산림과학원_청정넷_운영현황 (AicanDustData)"
      ],
      "metadata": {
        "id": "vb8xYKRHs_r3"
      }
    },
    {
      "cell_type": "markdown",
      "source": [
        "## Get observations data from Open API"
      ],
      "metadata": {
        "id": "c7cXeKdJxXuK"
      }
    },
    {
      "cell_type": "code",
      "execution_count": null,
      "metadata": {
        "id": "I6mo0w1VEbHQ"
      },
      "outputs": [],
      "source": [
        "max_iter_num = 0\n",
        "\n",
        "response = requests.get(AicanDustData[\"OPENAPI_URL\"], params=AicanDustData[\"parameters\"])\n",
        "pprint(response)\n",
        "\n",
        "response_json = json.loads(response.content)\n",
        "\n",
        "result_code = response_json['resultCode']\n",
        "result_message = response_json['resultMsg']\n",
        "num_of_rows = int(response_json['numOfRows'])\n",
        "page_no = int(response_json['pageNo'])\n",
        "total_count = int(response_json['totalCount'])\n",
        "\n",
        "data = pd.DataFrame.from_dict(response_json['items'])\n",
        "\n",
        "print(f\"Load {AicanDustData['QUOTA_LIMIT']} of {total_count} rows successfully with code {result_code}: {result_message}\")\n",
        "\n",
        "if AicanDustData['QUOTA_LIMIT'] < total_count:\n",
        "  max_iter_num = (total_count // AicanDustData['QUOTA_LIMIT']) - 1\n",
        "  if total_count % AicanDustData['QUOTA_LIMIT'] > 0:\n",
        "    max_iter_num += 1\n",
        "  for page_num in range(max_iter_num):\n",
        "    AicanDustData[\"parameters\"][\"pageNo\"] = str(int(AicanDustData[\"parameters\"][\"pageNo\"]) + 1)\n",
        "    response = requests.get(AicanDustData[\"OPENAPI_URL\"], params=AicanDustData[\"parameters\"])\n",
        "    pprint(response)\n",
        "    print(f\"Load {response_json['numOfRows']} of {total_count} rows successfully with code {result_code}: {result_message}\")\n",
        "    response_json = json.loads(response.content)\n",
        "    data = data.append(pd.DataFrame.from_dict(response_json['items']), ignore_index=True)\n",
        "  else:\n",
        "    AicanDustData[\"parameters\"][\"pageNo\"] = \"1\"\n",
        "\n",
        "# MEMO: prettify codes using divmod()\n",
        "\n",
        "display(data)"
      ]
    },
    {
      "cell_type": "code",
      "source": [
        "data.count()"
      ],
      "metadata": {
        "id": "E9jZY6p3aQKr"
      },
      "execution_count": null,
      "outputs": []
    },
    {
      "cell_type": "code",
      "source": [
        "from google.colab import drive\n",
        "drive.mount('/content/drive')"
      ],
      "metadata": {
        "id": "9O-k0_czz95F"
      },
      "execution_count": null,
      "outputs": []
    },
    {
      "cell_type": "code",
      "source": [
        "data.to_csv('data.csv')\n",
        "!cp data.csv \"/content/drive/MyDrive/\""
      ],
      "metadata": {
        "id": "aN2o67hC0V98"
      },
      "execution_count": null,
      "outputs": []
    },
    {
      "cell_type": "code",
      "source": [
        "!cp data.csv \"/content/drive/MyDrive/\""
      ],
      "metadata": {
        "id": "5fTJpRAx1emu"
      },
      "execution_count": null,
      "outputs": []
    }
  ]
}