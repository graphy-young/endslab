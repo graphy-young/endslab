{
 "metadata": {
  "language_info": {
   "codemirror_mode": {
    "name": "ipython",
    "version": 3
   },
   "file_extension": ".py",
   "mimetype": "text/x-python",
   "name": "python",
   "nbconvert_exporter": "python",
   "pygments_lexer": "ipython3",
   "version": "3.8.5"
  },
  "orig_nbformat": 2,
  "kernelspec": {
   "name": "python3",
   "display_name": "Python 3.8.5 64-bit ('base': conda)"
  },
  "interpreter": {
   "hash": "7af960f18078d8359ed906e25fff7f1e56ad9156f24acd16c1513f275bcdfe7c"
  }
 },
 "nbformat": 4,
 "nbformat_minor": 2,
 "cells": [
  {
   "cell_type": "code",
   "execution_count": 1,
   "metadata": {},
   "outputs": [
    {
     "output_type": "stream",
     "name": "stdout",
     "text": [
      "Requirement already satisfied: beautifulsoup4 in /Users/youngdae/anaconda3/lib/python3.8/site-packages (4.9.3)\nRequirement already satisfied: soupsieve>1.2; python_version >= \"3.0\" in /Users/youngdae/anaconda3/lib/python3.8/site-packages (from beautifulsoup4) (2.0.1)\n"
     ]
    }
   ],
   "source": [
    "!pip install beautifulsoup4"
   ]
  },
  {
   "cell_type": "code",
   "execution_count": 35,
   "metadata": {},
   "outputs": [
    {
     "output_type": "stream",
     "name": "stdout",
     "text": [
      "[2021-06-22 12:09:19.097191] Done!\n"
     ]
    }
   ],
   "source": [
    "import requests\n",
    "from bs4 import BeautifulSoup\n",
    "import pandas as pd\n",
    "\n",
    "def logger(*args):\n",
    "    \"\"\"\n",
    "        Print log message with excecuting file name, timestamp.\n",
    "        *** All parameters should be on string-type!\n",
    "    \"\"\"\n",
    "    from datetime import datetime\n",
    "    try: __file__\n",
    "    except NameError:\n",
    "        message = f\"[{str(datetime.now())}] {str(' '.join(args))}\"\n",
    "    else:\n",
    "        message = f\"[{__file__} {str(datetime.now())}] {str(' '.join(args))}\"\n",
    "    print(message)\n",
    "\n",
    "def parsingFrom(url):\n",
    "    response = requests.get(url)\n",
    "    if response.status_code == 200:\n",
    "        html = response.text\n",
    "        soup = BeautifulSoup(html, 'html.parser')\n",
    "        logger(f\"Parsing done successfully from {url}\")\n",
    "        return soup\n",
    "    else: \n",
    "        print(response.status_code)\n",
    "\n",
    "logger('Done!')\n"
   ]
  },
  {
   "cell_type": "code",
   "execution_count": 36,
   "metadata": {
    "tags": []
   },
   "outputs": [
    {
     "output_type": "stream",
     "name": "stdout",
     "text": [
      "[2021-06-22 12:09:26.659897] Parsing done successfully from https://www.naturing.net/o/thumbnail?observation_name=%EB%B6%89%EC%9D%80%EA%B7%80%EA%B1%B0%EB%B6%81&order_code=&habitat_code=&area=&help_name_yn=&match_case=N&observe_date1=&observe_date2=&create_date1=&create_date2=&obs_filter=0&follow_yn=&media_type=photo%2Cvideo%2Csound&type=&draft_yn=&sort_type=&lat1=&lng1=&lat2=&lng2=\n"
     ]
    }
   ],
   "source": [
    "targetURL = \"https://www.naturing.net/o/thumbnail?observation_name=%EB%B6%89%EC%9D%80%EA%B7%80%EA%B1%B0%EB%B6%81&order_code=&habitat_code=&area=&help_name_yn=&match_case=N&observe_date1=&observe_date2=&create_date1=&create_date2=&obs_filter=0&follow_yn=&media_type=photo%2Cvideo%2Csound&type=&draft_yn=&sort_type=&lat1=&lng1=&lat2=&lng2=\"\n",
    "\n",
    "soup = parsingFrom(targetURL)"
   ]
  },
  {
   "cell_type": "code",
   "execution_count": 37,
   "metadata": {
    "tags": []
   },
   "outputs": [
    {
     "output_type": "stream",
     "name": "stdout",
     "text": [
      "[2021-06-22 12:11:31.150331] 160 links parsed.\n"
     ]
    }
   ],
   "source": [
    "table = soup.find_all(\"div\", class_=\"b-itemlist__item observation-item\")\n",
    "\n",
    "linkHead = \"https://www.naturing.net/o/\"\n",
    "linkList = list()\n",
    "\n",
    "for data in table:\n",
    "    link = data.find('a')['href']\n",
    "    linkList.append(link)\n",
    "else:\n",
    "    logger(str(len(linkList)), \"links parsed.\")"
   ]
  },
  {
   "cell_type": "code",
   "execution_count": 102,
   "metadata": {
    "tags": [
     "outputPrepend"
    ]
   },
   "outputs": [
    {
     "output_type": "stream",
     "name": "stdout",
     "text": [
      ".092477] id: 536342, address: 울산 중구 다운동, timestamp: 2020년 6월 9일 오전 11시, latitude: 35.5624972403092, longtitude: 129.25923014853356\n",
      "[2021-06-22 13:04:23.661784] Parsing done successfully from https://www.naturing.net/o/535606\n",
      "[2021-06-22 13:04:23.663501] id: 535606, address: 서울 노원구 상계동, timestamp: 2020년 6월 9일 오전 8시, latitude: 37.67417689972223, longtitude: 127.04943909999997\n",
      "[2021-06-22 13:04:24.239579] Parsing done successfully from https://www.naturing.net/o/527863\n",
      "[2021-06-22 13:04:24.241324] id: 527863, address: 서울 광진구 능동, timestamp: 2020년 6월 1일 오후 12시, latitude: 37.548077321749595, longtitude: 127.0784893061729\n",
      "[2021-06-22 13:04:24.789353] Parsing done successfully from https://www.naturing.net/o/527507\n",
      "[2021-06-22 13:04:24.790994] id: 527507, address: 부산 남구 용호동, timestamp: 2020년 5월 31일 오전 9시, latitude: 35.10362269616284, longtitude: 129.12328076914187\n",
      "[2021-06-22 13:04:25.341200] Parsing done successfully from https://www.naturing.net/o/525800\n",
      "[2021-06-22 13:04:25.342812] id: 525800, address: 부산 남구 용호동, timestamp: 2020년 5월 31일 오전 9시, latitude: 35.103428154086245, longtitude: 129.1233891643651\n",
      "[2021-06-22 13:04:25.921373] Parsing done successfully from https://www.naturing.net/o/525794\n",
      "[2021-06-22 13:04:25.923015] id: 525794, address: 부산 남구 용호동, timestamp: 2020년 5월 31일 오전 9시, latitude: 35.10333333333333, longtitude: 129.12305555555557\n",
      "[2021-06-22 13:04:26.473040] Parsing done successfully from https://www.naturing.net/o/524715\n",
      "[2021-06-22 13:04:26.474630] id: 524715, address: 경기 하남시 선동, timestamp: 2020년 5월 27일 오전 8시, latitude: 37.58074701790078, longtitude: 127.17828562176133\n",
      "[2021-06-22 13:04:27.017630] Parsing done successfully from https://www.naturing.net/o/515306\n",
      "[2021-06-22 13:04:27.019248] id: 515306, address: 서울 노원구 상계동, timestamp: 2020년 5월 23일 오후 1시, latitude: 37.64791939972223, longtitude: 127.05579669999997\n",
      "[2021-06-22 13:04:27.565979] Parsing done successfully from https://www.naturing.net/o/514784\n",
      "[2021-06-22 13:04:27.567578] id: 514784, address: 서울 성동구 성수동1가, timestamp: 2020년 5월 23일 오전 11시, latitude: 37.541181277777774, longtitude: 127.03930158333333\n",
      "[2021-06-22 13:04:28.110880] Parsing done successfully from https://www.naturing.net/o/502721\n",
      "[2021-06-22 13:04:28.112562] id: 502721, address: 서울 도봉구 창동, timestamp: 2020년 5월 14일 오후 12시, latitude: 37.6589317237175, longtitude: 127.05210925177599\n",
      "[2021-06-22 13:04:28.659491] Parsing done successfully from https://www.naturing.net/o/501734\n",
      "[2021-06-22 13:04:28.661115] id: 501734, address: 경남 창녕군 창녕읍 교리, timestamp: 2020년 5월 11일 오후 2시, latitude: 35.545757098644415, longtitude: 128.4982983633533\n",
      "[2021-06-22 13:04:29.210050] Parsing done successfully from https://www.naturing.net/o/499696\n",
      "[2021-06-22 13:04:29.211771] id: 499696, address: 경기 하남시 선동, timestamp: 2020년 5월 11일 오전 10시, latitude: 37.58294291911166, longtitude: 127.18576303648115\n",
      "[2021-06-22 13:04:29.745009] Parsing done successfully from https://www.naturing.net/o/489420\n",
      "[2021-06-22 13:04:29.746683] id: 489420, address: 서울 도봉구 쌍문동, timestamp: 2020년 5월 4일 오후 1시, latitude: 37.6443276292001, longtitude: 127.028585359301\n",
      "[2021-06-22 13:04:30.305160] Parsing done successfully from https://www.naturing.net/o/489389\n",
      "[2021-06-22 13:04:30.306746] id: 489389, address: 서울 도봉구 창동, timestamp: 2020년 5월 4일 오후 2시, latitude: 37.6423410587217, longtitude: 127.031720881782\n",
      "[2021-06-22 13:04:30.861159] Parsing done successfully from https://www.naturing.net/o/488620\n",
      "[2021-06-22 13:04:30.862763] id: 488620, address: 서울 성동구 성수동1가, timestamp: 2020년 5월 3일 오전 11시, latitude: 37.54132598305083, longtitude: 127.03945797132656\n",
      "[2021-06-22 13:04:31.415546] Parsing done successfully from https://www.naturing.net/o/485451\n",
      "[2021-06-22 13:04:31.417220] id: 485451, address: 부산 연제구 연산동, timestamp: 2020년 5월 1일 오후 4시, latitude: 35.19277777777778, longtitude: 129.0938888888889\n",
      "[2021-06-22 13:04:31.967976] Parsing done successfully from https://www.naturing.net/o/480167\n",
      "[2021-06-22 13:04:31.969569] id: 480167, address: 경기 고양시 덕양구 신평동, timestamp: 2020년 4월 27일 오전 11시, latitude: 37.619846, longtitude: 126.793282\n",
      "[2021-06-22 13:04:32.551329] Parsing done successfully from https://www.naturing.net/o/479702\n",
      "[2021-06-22 13:04:32.552865] id: 479702, address: 서울 노원구 상계동, timestamp: 2020년 4월 27일 오후 5시, latitude: 37.64890259972222, longtitude: 127.05528959972219\n",
      "[2021-06-22 13:04:33.092240] Parsing done successfully from https://www.naturing.net/o/476884\n",
      "[2021-06-22 13:04:33.093962] id: 476884, address: 서울 노원구 상계동, timestamp: 2020년 4월 25일 오전 10시, latitude: 37.648992557436216, longtitude: 127.05503716888937\n",
      "[2021-06-22 13:04:33.639923] Parsing done successfully from https://www.naturing.net/o/472822\n",
      "[2021-06-22 13:04:33.641532] id: 472822, address: 서울 영등포구 여의도동, timestamp: 2020년 4월 21일 오전 9시, latitude: 37.518994694444444, longtitude: 126.91970310833334\n",
      "[2021-06-22 13:04:34.206758] Parsing done successfully from https://www.naturing.net/o/470538\n",
      "[2021-06-22 13:04:34.208324] id: 470538, address: 경기 남양주시 진접읍 부평리, timestamp: 2020년 4월 15일 오후 1시, latitude: 37.74697778711085, longtitude: 127.1841639707208\n",
      "[2021-06-22 13:04:34.786802] Parsing done successfully from https://www.naturing.net/o/467003\n",
      "[2021-06-22 13:04:34.788400] id: 467003, address: 부산 동래구 낙민동, timestamp: 2020년 4월 14일 오전 9시, latitude: 35.19333333333333, longtitude: 129.09444444444446\n",
      "[2021-06-22 13:04:35.337388] Parsing done successfully from https://www.naturing.net/o/464075\n",
      "[2021-06-22 13:04:35.339082] id: 464075, address: 경기 수원시 영통구 하동, timestamp: 2020년 4월 4일 오후 4시, latitude: 37.2818842, longtitude: 127.06025749999999\n",
      "[2021-06-22 13:04:35.900906] Parsing done successfully from https://www.naturing.net/o/460002\n",
      "[2021-06-22 13:04:35.902490] id: 460002, address: 경기 하남시 선동, timestamp: 2020년 4월 5일 오후 3시, latitude: 37.58064838739695, longtitude: 127.1779683947844\n",
      "[2021-06-22 13:04:36.455947] Parsing done successfully from https://www.naturing.net/o/451267\n",
      "[2021-06-22 13:04:36.457561] id: 451267, address: 제주특별자치도 제주시 삼양일동, timestamp: 2020년 3월 20일 오후 2시, latitude: 33.52638888888889, longtitude: 126.59861111111111\n",
      "[2021-06-22 13:04:37.012954] Parsing done successfully from https://www.naturing.net/o/445364\n",
      "[2021-06-22 13:04:37.014575] id: 445364, address: 경기 고양시 일산동구 장항동, timestamp: 2020년 3월 18일 오후 4시, latitude: 37.66222222222222, longtitude: 126.75833333333334\n",
      "[2021-06-22 13:04:37.579539] Parsing done successfully from https://www.naturing.net/o/438116\n",
      "[2021-06-22 13:04:38.193426] Parsing done successfully from https://www.naturing.net/o/425227\n",
      "[2021-06-22 13:04:38.744183] Parsing done successfully from https://www.naturing.net/o/392181\n",
      "[2021-06-22 13:04:38.745782] id: 392181, address: 경기 파주시 동패동, timestamp: 2019년 10월 17일 오후 2시, latitude: 37.723672972222225, longtitude: 126.716446\n",
      "[2021-06-22 13:04:39.299747] Parsing done successfully from https://www.naturing.net/o/356298\n",
      "[2021-06-22 13:04:39.872332] Parsing done successfully from https://www.naturing.net/o/348716\n",
      "[2021-06-22 13:04:39.873914] id: 348716, address: 서울 마포구 상암동, timestamp: 2019년 7월 28일 오후 4시, latitude: 37.57152544293772, longtitude: 126.87015715208794\n",
      "[2021-06-22 13:04:40.417551] Parsing done successfully from https://www.naturing.net/o/347323\n",
      "[2021-06-22 13:04:40.419165] id: 347323, address: 전북 군산시 회현면 세장리, timestamp: 2019년 7월 26일 오전 11시, latitude: 35.92594155555555, longtitude: 126.74507105555556\n",
      "[2021-06-22 13:04:40.964619] Parsing done successfully from https://www.naturing.net/o/330391\n",
      "[2021-06-22 13:04:41.527192] Parsing done successfully from https://www.naturing.net/o/321250\n",
      "[2021-06-22 13:04:41.528782] id: 321250, address: 경기 고양시 덕양구 대장동, timestamp: 2019년 5월 28일 오후 4시, latitude: 37.634242972222225, longtitude: 126.82021897222222\n",
      "[2021-06-22 13:04:42.084133] Parsing done successfully from https://www.naturing.net/o/315860\n",
      "[2021-06-22 13:04:42.085785] id: 315860, address: 경기도 화성시 비봉면, timestamp: 2019년 5월 28일 오후 2시, latitude: 37.26138888888889, longtitude: 126.84833333333333\n",
      "[2021-06-22 13:04:42.662572] Parsing done successfully from https://www.naturing.net/o/312035\n",
      "[2021-06-22 13:04:42.664201] id: 312035, address: 울산 울주군 범서읍 입암리, timestamp: 2019년 5월 25일 오후 3시, latitude: 35.579731242162936, longtitude: 129.23429028525698\n",
      "[2021-06-22 13:04:43.238697] Parsing done successfully from https://www.naturing.net/o/309540\n",
      "[2021-06-22 13:04:43.240231] id: 309540, address: 전북 익산시 왕궁면 동용리, timestamp: 2019년 3월 11일 오후 1시, latitude: 35.99782724123243, longtitude: 127.10656966753832\n",
      "[2021-06-22 13:04:43.830163] Parsing done successfully from https://www.naturing.net/o/309538\n",
      "[2021-06-22 13:04:43.831926] id: 309538, address: 전북 익산시 왕궁면 동용리, timestamp: 2019년 3월 8일 오후 2시, latitude: 35.997719343483645, longtitude: 127.1066589632437\n",
      "[2021-06-22 13:04:44.380771] Parsing done successfully from https://www.naturing.net/o/301488\n",
      "[2021-06-22 13:04:44.382323] id: 301488, address: 경북 구미시 남통동, timestamp: 2019년 5월 4일 오전 10시, latitude: 36.115833333333335, longtitude: 128.31444444444446\n",
      "[2021-06-22 13:04:44.925119] Parsing done successfully from https://www.naturing.net/o/300178\n",
      "[2021-06-22 13:04:44.926703] id: 300178, address: 제주특별자치도 제주시 애월읍 어음리, timestamp: 2019년 5월 6일 오전 10시, latitude: 33.40390575768907, longtitude: 126.33917760398512\n",
      "[2021-06-22 13:04:45.502138] Parsing done successfully from https://www.naturing.net/o/298104\n",
      "[2021-06-22 13:04:45.503738] id: 298104, address: 경기 고양시 일산동구 장항동, timestamp: 2019년 5월 2일 오전 11시, latitude: 37.66291374984012, longtitude: 126.75905851240384\n",
      "[2021-06-22 13:04:46.075608] Parsing done successfully from https://www.naturing.net/o/285218\n",
      "[2021-06-22 13:04:46.077203] id: 285218, address: 경기 고양시 일산동구 장항동, timestamp: 2019년 4월 8일 오후 3시, latitude: 37.66314230378751, longtitude: 126.75934861100124\n",
      "[2021-06-22 13:04:46.643617] Parsing done successfully from https://www.naturing.net/o/282891\n",
      "[2021-06-22 13:04:47.226576] Parsing done successfully from https://www.naturing.net/o/282520\n",
      "[2021-06-22 13:04:47.228238] id: 282520, address: 서울 용산구 이태원동, timestamp: 2019년 4월 1일 오후 2시, latitude: 37.54363333333333, longtitude: 126.99427\n",
      "[2021-06-22 13:04:47.793773] Parsing done successfully from https://www.naturing.net/o/278840\n",
      "[2021-06-22 13:04:47.795463] id: 278840, address: 경남 합천군 대양면 정양리, timestamp: 2019년 3월 19일 오후 3시, latitude: 35.55146060104634, longtitude: 128.16312895882575\n",
      "[2021-06-22 13:04:48.351601] Parsing done successfully from https://www.naturing.net/o/275436\n",
      "[2021-06-22 13:04:48.353293] id: 275436, address: 경기 고양시 일산동구 장항동, timestamp: 2019년 3월 8일 오후 2시, latitude: 37.6625, longtitude: 126.75916666666667\n",
      "[2021-06-22 13:04:48.910499] Parsing done successfully from https://www.naturing.net/o/266743\n",
      "[2021-06-22 13:04:48.912127] id: 266743, address: 서울 영등포구 문래동5가, timestamp: 2018년 8월 24일 오후 12시, latitude: 37.51962848160213, longtitude: 126.87911514933349\n",
      "[2021-06-22 13:04:49.468702] Parsing done successfully from https://www.naturing.net/o/246179\n",
      "[2021-06-22 13:04:49.470423] id: 246179, address: 서울 영등포구 여의도동, timestamp: 2018년 10월 12일 오후 2시, latitude: 37.51879740516001, longtitude: 126.92009751267521\n",
      "[2021-06-22 13:04:50.034886] Parsing done successfully from https://www.naturing.net/o/245803\n",
      "[2021-06-22 13:04:50.036527] id: 245803, address: 경남 창원시 진해구 장천동, timestamp: 2018년 10월 7일 오전 10시, latitude: 35.1322359216263, longtitude: 128.71825954999272\n",
      "[2021-06-22 13:04:50.583143] Parsing done successfully from https://www.naturing.net/o/245008\n",
      "[2021-06-22 13:04:50.584777] id: 245008, address: 경기 고양시 일산동구 장항동\n",
      "                                    \n",
      "                                    \n",
      "                                        도로명 경기도 고양시 일산동구 장항로 265-13, timestamp: 2018년 10월 7일 오전 9시, latitude: 37.64172515214281, longtitude: 126.77023300735102\n",
      "[2021-06-22 13:04:51.134434] Parsing done successfully from https://www.naturing.net/o/243111\n",
      "[2021-06-22 13:04:51.136107] id: 243111, address: 경기 고양시 일산동구 장항동, timestamp: 2018년 10월 1일 오전 11시, latitude: 37.66222222222222, longtitude: 126.75888888888889\n",
      "[2021-06-22 13:04:51.703635] Parsing done successfully from https://www.naturing.net/o/239602\n",
      "[2021-06-22 13:04:51.705222] id: 239602, address: 경기 고양시 일산동구 장항동, timestamp: 2018년 9월 17일 오전 10시, latitude: 37.662760694444444, longtitude: 126.75966002777778\n",
      "[2021-06-22 13:04:52.593256] Parsing done successfully from https://www.naturing.net/o/231787\n",
      "[2021-06-22 13:04:53.637727] Parsing done successfully from https://www.naturing.net/o/231320\n",
      "[2021-06-22 13:04:53.639353] id: 231320, address: 인천 남동구 고잔동, timestamp: 2018년 7월 28일 오후 8시, latitude: 37.39166216674208, longtitude: 126.67732120615261\n",
      "[2021-06-22 13:04:54.693580] Parsing done successfully from https://www.naturing.net/o/230053\n",
      "[2021-06-22 13:04:54.695216] id: 230053, address: 인천 남동구 고잔동, timestamp: 2018년 9월 1일 오후 2시, latitude: 37.39174250313609, longtitude: 126.67544765916041\n",
      "[2021-06-22 13:04:55.748597] Parsing done successfully from https://www.naturing.net/o/201530\n",
      "[2021-06-22 13:04:55.750324] id: 201530, address: 인천 남구 학익동, timestamp: 2018년 6월 24일 오후 3시, latitude: 37.44916666666666, longtitude: 126.65583333333333\n",
      "[2021-06-22 13:04:56.324093] Parsing done successfully from https://www.naturing.net/o/194608\n",
      "[2021-06-22 13:04:56.325692] id: 194608, address: 경상남도 창원시 진해구 풍호동, timestamp: 2018년 6월 7일 오전 9시, latitude: 35.13220128308557, longtitude: 128.71816008924708\n",
      "[2021-06-22 13:04:56.880720] Parsing done successfully from https://www.naturing.net/o/187550\n",
      "[2021-06-22 13:04:56.882342] id: 187550, address: 부산광역시 금정구 남산동, timestamp: 2018년 5월 25일 오전 11시, latitude: 35.25864408333333, longtitude: 129.0917968611111\n",
      "[2021-06-22 13:04:57.416346] Parsing done successfully from https://www.naturing.net/o/186761\n",
      "[2021-06-22 13:04:57.417944] id: 186761, address: 제주특별자치도 서귀포시 표선면, timestamp: 2018년 5월 23일 오전 10시, latitude: 33.40834532575589, longtitude: 126.78917398681793\n",
      "[2021-06-22 13:04:57.988056] Parsing done successfully from https://www.naturing.net/o/174421\n",
      "[2021-06-22 13:04:57.989663] id: 174421, address: 제주특별자치도 제주시 한경면, timestamp: 2018년 4월 27일 오전 10시, latitude: 33.32350157, longtitude: 126.18475901\n",
      "[2021-06-22 13:04:58.560877] Parsing done successfully from https://www.naturing.net/o/174411\n",
      "[2021-06-22 13:04:58.562606] id: 174411, address: 제주특별자치도 서귀포시 대정읍, timestamp: 2018년 4월 27일 오전 9시, latitude: 33.27604417, longtitude: 126.20724643\n",
      "[2021-06-22 13:04:59.177857] Parsing done successfully from https://www.naturing.net/o/174145\n",
      "[2021-06-22 13:04:59.179473] id: 174145, address: 부산광역시 해운대구 반여1동, timestamp: 2018년 4월 26일 오후 1시, latitude: 35.21822355555556, longtitude: 129.1378631388889\n",
      "[2021-06-22 13:04:59.733881] Parsing done successfully from https://www.naturing.net/o/163879\n",
      "[2021-06-22 13:04:59.735919] id: 163879, address: 경기도 고양시 일산동구 장항2동, timestamp: 2018년 4월 2일 오전 10시, latitude: 37.662523388888886, longtitude: 126.75904858333334\n",
      "[2021-06-22 13:05:00.313748] Parsing done successfully from https://www.naturing.net/o/163618\n",
      "[2021-06-22 13:05:00.315318] id: 163618, address: 경기도 고양시 일산동구 장항2동, timestamp: 2018년 3월 26일 오후 12시, latitude: 37.662505527777775, longtitude: 126.75904827777778\n",
      "[2021-06-22 13:05:00.855010] Parsing done successfully from https://www.naturing.net/o/159969\n",
      "[2021-06-22 13:05:00.856607] id: 159969, address: 인천광역시 남구 학익1동, timestamp: 2017년 4월 24일 오전 10시, latitude: 37.44888888888889, longtitude: 126.65555555555557\n",
      "[2021-06-22 13:05:01.518817] Parsing done successfully from https://www.naturing.net/o/157842\n",
      "[2021-06-22 13:05:01.520552] id: 157842, address: 전라남도 순천시 삼산동, timestamp: 2018년 3월 4일 오후 2시, latitude: 34.96749878193755, longtitude: 127.49780235358986\n",
      "[2021-06-22 13:05:02.070447] Parsing done successfully from https://www.naturing.net/o/137564\n",
      "[2021-06-22 13:05:02.072069] id: 137564, address: 충청북도 보은군 속리산면, timestamp: 2017년 10월 14일 오전 11시, latitude: 36.54012222222222, longtitude: 127.83782222222221\n",
      "[2021-06-22 13:05:02.627595] Parsing done successfully from https://www.naturing.net/o/137448\n",
      "[2021-06-22 13:05:02.629179] id: 137448, address: 충청북도 보은군 속리산면, timestamp: 2017년 10월 14일 오전 10시, latitude: 36.54020555555555, longtitude: 127.83340555555554\n",
      "[2021-06-22 13:05:03.199191] Parsing done successfully from https://www.naturing.net/o/137445\n",
      "[2021-06-22 13:05:03.200749] id: 137445, address: 충청북도 보은군 속리산면, timestamp: 2017년 10월 14일 오전 10시, latitude: 36.53994608304777, longtitude: 127.8390327210252\n",
      "[2021-06-22 13:05:03.781254] Parsing done successfully from https://www.naturing.net/o/124914\n",
      "[2021-06-22 13:05:03.782935] id: 124914, address: 울산광역시 울주군 삼동면, timestamp: 2017년 9월 9일 오후 7시, latitude: 35.50049145496691, longtitude: 129.19200500310401\n",
      "[2021-06-22 13:05:04.339110] Parsing done successfully from https://www.naturing.net/o/104127\n",
      "[2021-06-22 13:05:04.340780] id: 104127, address: 경상남도 창원시 진해구 풍호동, timestamp: 2017년 7월 9일 오전 11시, latitude: 35.13222862284998, longtitude: 128.71813872307996\n",
      "[2021-06-22 13:05:04.882982] Parsing done successfully from https://www.naturing.net/o/97884\n",
      "[2021-06-22 13:05:04.884550] id: 97884, address: 충청북도 청주시 서원구 성화.개신.죽림동, timestamp: 2017년 7월 4일 오전 11시, latitude: 36.61696854516268, longtitude: 127.45547309484867\n",
      "[2021-06-22 13:05:05.441237] Parsing done successfully from https://www.naturing.net/o/85923\n",
      "[2021-06-22 13:05:05.442881] id: 85923, address: 전라남도 순천시 도사동, timestamp: 2017년 5월 30일 오전 11시, latitude: 34.89020277777778, longtitude: 127.48438888888889\n",
      "[2021-06-22 13:05:06.003072] Parsing done successfully from https://www.naturing.net/o/72600\n",
      "[2021-06-22 13:05:06.004769] id: 72600, address: 서울특별시 성동구 금호4가동, timestamp: 2017년 4월 16일 오전 11시, latitude: 37.54318833333333, longtitude: 127.02382333333333\n",
      "[2021-06-22 13:05:06.562930] Parsing done successfully from https://www.naturing.net/o/70102\n",
      "[2021-06-22 13:05:06.564508] id: 70102, address: 서울특별시 동작구 신대방2동, timestamp: 2017년 4월 7일 오후 12시, latitude: 37.4914687995594, longtitude: 126.91709495563292\n",
      "[2021-06-22 13:05:07.135705] Parsing done successfully from https://www.naturing.net/o/35662\n",
      "[2021-06-22 13:05:07.137384] id: 35662, address: 경상남도 창원시 마산회원구 봉암동, timestamp: 2016년 6월 1일 오후 2시, latitude: 35.22220166259473, longtitude: 128.60559544419865\n",
      "[2021-06-22 13:05:07.733279] Parsing done successfully from https://www.naturing.net/o/33997\n",
      "[2021-06-22 13:05:07.734902] id: 33997, address: 부산광역시 사상구 삼락동, timestamp: 2016년 6월 11일 오전 9시, latitude: 35.170268952353666, longtitude: 128.97577972940977\n",
      "[2021-06-22 13:05:08.290714] Parsing done successfully from https://www.naturing.net/o/24596\n",
      "[2021-06-22 13:05:08.292333] id: 24596, address: 부산광역시 사하구 하단1동, timestamp: 2016년 4월 3일 오후 2시, latitude: 35.1052296, longtitude: 128.9463192\n",
      "[2021-06-22 13:05:08.849146] Parsing done successfully from https://www.naturing.net/o/24592\n",
      "[2021-06-22 13:05:08.850741] id: 24592, address: 부산광역시 사하구 하단1동, timestamp: 2016년 4월 3일 오후 2시, latitude: 35.10439385332337, longtitude: 128.94590664978057\n",
      "[2021-06-22 13:05:09.411428] Parsing done successfully from https://www.naturing.net/o/16351\n",
      "[2021-06-22 13:05:09.953620] Parsing done successfully from https://www.naturing.net/o/16009\n",
      "[2021-06-22 13:05:09.955325] id: 16009, address: 전라북도 전주시 덕진구 송천1동, timestamp: 2015년 9월 5일 오전 9시, latitude: 35.86139520677234, longtitude: 127.1366323367414\n",
      "[2021-06-22 13:05:10.497891] Parsing done successfully from https://www.naturing.net/o/13334\n",
      "[2021-06-22 13:05:11.080547] Parsing done successfully from https://www.naturing.net/o/12287\n",
      "[2021-06-22 13:05:11.082131] id: 12287, address: 경상남도 통영시 산양읍, timestamp: 2015년 7월 8일 오후 4시, latitude: 34.80383055555555, longtitude: 128.42108055555553\n",
      "[2021-06-22 13:05:11.645443] Parsing done successfully from https://www.naturing.net/o/10431\n",
      "[2021-06-22 13:05:11.647043] id: 10431, address: 부산광역시 사상구 삼락동, timestamp: 2015년 5월 31일 오후 12시, latitude: 35.17226788888889, longtitude: 128.97369383333333\n",
      "[2021-06-22 13:05:12.189515] Parsing done successfully from https://www.naturing.net/o/10351\n",
      "[2021-06-22 13:05:12.757537] Parsing done successfully from https://www.naturing.net/o/10322\n",
      "[2021-06-22 13:05:12.759131] id: 10322, address: 부산광역시 사상구 삼락동, timestamp: 2015년 5월 31일 오전 10시, latitude: 35.17422075852302, longtitude: 128.9717229177514\n"
     ]
    },
    {
     "output_type": "display_data",
     "data": {
      "text/plain": "         id            address           timesstamp            latitude  \\\n0    843864         부산 연제구 연산동    2021년 6월 6일 오후 3시   35.19073939972222   \n1    843789         부산 연제구 연산동   2021년 4월 13일 오전 9시   35.19292269972222   \n2    839255         인천 남동구 고잔동  2021년 6월 12일 오후 12시   37.39163932683185   \n3    834991     충북 청주시 서원구 산남동    2021년 6월 8일 오후 3시           36.613734   \n4    833971         서울 송파구 방이동    2021년 6월 2일 오전 9시  37.511819702472465   \n..      ...                ...                  ...                 ...   \n144   24592     부산광역시 사하구 하단1동    2016년 4월 3일 오후 2시   35.10439385332337   \n145   16009  전라북도 전주시 덕진구 송천1동    2015년 9월 5일 오전 9시   35.86139520677234   \n146   12287       경상남도 통영시 산양읍    2015년 7월 8일 오후 4시   34.80383055555555   \n147   10431      부산광역시 사상구 삼락동  2015년 5월 31일 오후 12시   35.17226788888889   \n148   10322      부산광역시 사상구 삼락동  2015년 5월 31일 오전 10시   35.17422075852302   \n\n             longtitude  \n0    129.10276569972223  \n1    129.09424219972223  \n2    126.67556223353148  \n3            127.468474  \n4    127.13872625499383  \n..                  ...  \n144  128.94590664978057  \n145   127.1366323367414  \n146  128.42108055555553  \n147  128.97369383333333  \n148   128.9717229177514  \n\n[149 rows x 5 columns]",
      "text/html": "<div>\n<style scoped>\n    .dataframe tbody tr th:only-of-type {\n        vertical-align: middle;\n    }\n\n    .dataframe tbody tr th {\n        vertical-align: top;\n    }\n\n    .dataframe thead th {\n        text-align: right;\n    }\n</style>\n<table border=\"1\" class=\"dataframe\">\n  <thead>\n    <tr style=\"text-align: right;\">\n      <th></th>\n      <th>id</th>\n      <th>address</th>\n      <th>timesstamp</th>\n      <th>latitude</th>\n      <th>longtitude</th>\n    </tr>\n  </thead>\n  <tbody>\n    <tr>\n      <th>0</th>\n      <td>843864</td>\n      <td>부산 연제구 연산동</td>\n      <td>2021년 6월 6일 오후 3시</td>\n      <td>35.19073939972222</td>\n      <td>129.10276569972223</td>\n    </tr>\n    <tr>\n      <th>1</th>\n      <td>843789</td>\n      <td>부산 연제구 연산동</td>\n      <td>2021년 4월 13일 오전 9시</td>\n      <td>35.19292269972222</td>\n      <td>129.09424219972223</td>\n    </tr>\n    <tr>\n      <th>2</th>\n      <td>839255</td>\n      <td>인천 남동구 고잔동</td>\n      <td>2021년 6월 12일 오후 12시</td>\n      <td>37.39163932683185</td>\n      <td>126.67556223353148</td>\n    </tr>\n    <tr>\n      <th>3</th>\n      <td>834991</td>\n      <td>충북 청주시 서원구 산남동</td>\n      <td>2021년 6월 8일 오후 3시</td>\n      <td>36.613734</td>\n      <td>127.468474</td>\n    </tr>\n    <tr>\n      <th>4</th>\n      <td>833971</td>\n      <td>서울 송파구 방이동</td>\n      <td>2021년 6월 2일 오전 9시</td>\n      <td>37.511819702472465</td>\n      <td>127.13872625499383</td>\n    </tr>\n    <tr>\n      <th>...</th>\n      <td>...</td>\n      <td>...</td>\n      <td>...</td>\n      <td>...</td>\n      <td>...</td>\n    </tr>\n    <tr>\n      <th>144</th>\n      <td>24592</td>\n      <td>부산광역시 사하구 하단1동</td>\n      <td>2016년 4월 3일 오후 2시</td>\n      <td>35.10439385332337</td>\n      <td>128.94590664978057</td>\n    </tr>\n    <tr>\n      <th>145</th>\n      <td>16009</td>\n      <td>전라북도 전주시 덕진구 송천1동</td>\n      <td>2015년 9월 5일 오전 9시</td>\n      <td>35.86139520677234</td>\n      <td>127.1366323367414</td>\n    </tr>\n    <tr>\n      <th>146</th>\n      <td>12287</td>\n      <td>경상남도 통영시 산양읍</td>\n      <td>2015년 7월 8일 오후 4시</td>\n      <td>34.80383055555555</td>\n      <td>128.42108055555553</td>\n    </tr>\n    <tr>\n      <th>147</th>\n      <td>10431</td>\n      <td>부산광역시 사상구 삼락동</td>\n      <td>2015년 5월 31일 오후 12시</td>\n      <td>35.17226788888889</td>\n      <td>128.97369383333333</td>\n    </tr>\n    <tr>\n      <th>148</th>\n      <td>10322</td>\n      <td>부산광역시 사상구 삼락동</td>\n      <td>2015년 5월 31일 오전 10시</td>\n      <td>35.17422075852302</td>\n      <td>128.9717229177514</td>\n    </tr>\n  </tbody>\n</table>\n<p>149 rows × 5 columns</p>\n</div>"
     },
     "metadata": {}
    },
    {
     "output_type": "stream",
     "name": "stdout",
     "text": [
      "[2021-06-22 13:05:12.766896] Done!\n"
     ]
    }
   ],
   "source": [
    "columnList = ['id', 'address', 'timesstamp', 'latitude', 'longtitude']\n",
    "result = pd.DataFrame(columns=columnList)\n",
    "\n",
    "for linkTail in linkList:\n",
    "    link = linkHead + linkTail\n",
    "    soup = parsingFrom(link)\n",
    "\n",
    "    mapPath = soup.select_one('#map')\n",
    "    if mapPath is None:\n",
    "        continue\n",
    "    else:\n",
    "        latitude, longtitude = mapPath['data-lat'], mapPath['data-lng']\n",
    "\n",
    "    information = soup.find('ul', class_=\"obsinfo__list\").find_all('div', class_=\"obsinfo__item-content\")\n",
    "    address = information[0].get_text().strip()\n",
    "    timestamp = information[3].get_text().strip()\n",
    "    \n",
    "    logger(f'id: {linkTail}, address: {address}, timestamp: {timestamp}, latitude: {latitude}, longtitude: {longtitude}')\n",
    "\n",
    "    dataList = [linkTail, address, timestamp, latitude, longtitude]\n",
    "    result = result.append({col:data for col, data in zip(columnList, dataList)}, ignore_index=True)\n",
    "else:\n",
    "    display(result)\n",
    "    logger('Done!')"
   ]
  },
  {
   "cell_type": "code",
   "execution_count": 104,
   "metadata": {},
   "outputs": [],
   "source": [
    "result.to_csv('data.csv', index=False)"
   ]
  }
 ]
}