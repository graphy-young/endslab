{
 "metadata": {
  "language_info": {
   "codemirror_mode": {
    "name": "ipython",
    "version": 3
   },
   "file_extension": ".py",
   "mimetype": "text/x-python",
   "name": "python",
   "nbconvert_exporter": "python",
   "pygments_lexer": "ipython3",
   "version": "3.8.5"
  },
  "orig_nbformat": 2,
  "kernelspec": {
   "name": "python385jvsc74a57bd03e25b9742b847ae2f6059319d2e224525c61c68c5b215d00f45fe9aaa5ae0482",
   "display_name": "Python 3.8.5 64-bit ('base': conda)"
  }
 },
 "nbformat": 4,
 "nbformat_minor": 2,
 "cells": [
  {
   "cell_type": "code",
   "execution_count": 34,
   "metadata": {},
   "outputs": [
    {
     "output_type": "stream",
     "name": "stdout",
     "text": [
      "[2021-05-26 22:43:41.570822] import & definition ends successfully.\n"
     ]
    }
   ],
   "source": [
    "import pandas as pd\n",
    "from sys import argv\n",
    "from datetime import datetime\n",
    "import pymysql\n",
    "import inspect, re\n",
    "import os\n",
    "#from tqdm.notebook import tqdm\n",
    "#from tkinter.filedialog import askopenfilename\n",
    "\n",
    "def logger(*args):\n",
    "    \"\"\"\n",
    "        Print log message with excecuting file name, timestamp.\n",
    "        *** All parameters should be on string-type!\n",
    "    \"\"\"\n",
    "    try: __file__\n",
    "    except NameError:\n",
    "        message = f\"[{str(datetime.now())}] {str(' '.join(args))}\"\n",
    "    else:\n",
    "        message = f\"[{__file__} {str(datetime.now())}] {str(' '.join(args))}\"\n",
    "    print(message)\n",
    "\n",
    "logger(\"import & definition ends successfully.\")"
   ]
  },
  {
   "cell_type": "code",
   "execution_count": 25,
   "metadata": {
    "tags": []
   },
   "outputs": [
    {
     "output_type": "stream",
     "name": "stdout",
     "text": [
      "[2021-05-26 22:40:04.243355] Working directory changed to /Users/youngdae/Documents/미세먼지와 폭염 대응 그린쉘터 최적 이용망 분석 기술 개발3(국립산립과학원)/210526_측정망 DB 구축/측정넷자료/2020년자료\n",
      "[2021-05-26 22:40:04.570681] Working directory changed to /Users/youngdae/Documents/미세먼지와 폭염 대응 그린쉘터 최적 이용망 분석 기술 개발3(국립산립과학원)/210526_측정망 DB 구축/측정넷자료/2021년자료\n",
      "[2021-05-26 22:40:04.613958] Empty or wrong file [Nafion-태안_산단.csv] detected. jump to next file\n",
      "[2021-05-26 22:40:04.933637] Empty or wrong file [BVOC-태안_산단.csv] detected. jump to next file\n",
      "[2021-05-26 22:40:04.934107] Empty or wrong file [Met_태안_산단.csv] detected. jump to next file\n",
      "[2021-05-26 22:40:04.954094] Empty or wrong file [AVOC-태안_산단.csv] detected. jump to next file\n",
      "[2021-05-26 22:40:05.023373] Reading data from files complete.\n"
     ]
    }
   ],
   "source": [
    "originPath = globals()['_dh'][0]\n",
    "os.chdir(originPath)\n",
    "#currentPath = os.getcwd()\n",
    "targetFolderList = ['2020년자료', '2021년자료']\n",
    "dataset = dict()\n",
    "#dataset = {fName: {} for fName in targetFolderList}\n",
    "\n",
    "for folderName in targetFolderList:\n",
    "    targetDir = f\"{originPath}/{folderName}\"\n",
    "    os.chdir(targetDir)\n",
    "    logger(f'Working directory changed to {targetDir}')\n",
    "    fileList = os.listdir(targetDir)\n",
    "    for fileName in fileList:\n",
    "        if fileName in dataset:\n",
    "            dataset[fileName] = pd.concat([dataset[fileName], pd.read_csv(f\"{targetDir}/{fileName}\")], ignore_index=True)\n",
    "        else:\n",
    "            if fileName.endswith('.csv') and os.path.isfile(fileName):\n",
    "                try:\n",
    "                    df = pd.read_csv(fileName)\n",
    "                    if len(df) > 0: dataset[fileName] = df\n",
    "                    else: raise Exception\n",
    "                except:\n",
    "                    logger(f'Empty or wrong file [{fileName}] detected. jump to next file')\n",
    "            else: continue\n",
    "else:\n",
    "    logger('Reading data from files complete.')"
   ]
  },
  {
   "cell_type": "code",
   "execution_count": 26,
   "metadata": {},
   "outputs": [
    {
     "output_type": "stream",
     "name": "stdout",
     "text": [
      "[2021-05-26 22:40:06.796342] Data classification complete.\n[2021-05-26 22:40:06.874638] Data merged successfully.\n"
     ]
    }
   ],
   "source": [
    "columnSet = {'pm': ['stationName', 'measuredDatetime', 'PM10', 'PM25', 'PM1'],\n",
    "             'weather': ['stationName', 'measuredDatetime', 'temperature', 'RelativeHumidity', 'windSpeed', 'windDirection']}\n",
    "\n",
    "data_AVOC = pd.DataFrame(columns=columnSet['pm'])\n",
    "data_BVOC = pd.DataFrame(columns=columnSet['pm'])\n",
    "data_Nafion = pd.DataFrame(columns=columnSet['pm'])\n",
    "data_weather = pd.DataFrame(columns=columnSet['weather'])\n",
    "\n",
    "dSet = {'AVOC': {}, 'BVOC': {}, 'weather': {}, 'Nafion': {}}\n",
    "\n",
    "# stationName 추가 및 컬럼명 변경\n",
    "for key in dataset:\n",
    "    if key.startswith('AVOC-') or key.startswith('BVOC-'):\n",
    "        dataset[key].insert(0, \"stationName\", key[5:-4], True)\n",
    "        dataset[key].columns = columnSet['pm']\n",
    "        if key.startswith('AVOC-'): \n",
    "            dSet['AVOC'][key] = dataset[key]\n",
    "        else:\n",
    "            dSet['BVOC'][key] = dataset[key]\n",
    "    elif key.startswith('Met_'):\n",
    "        dataset[key].insert(0, \"stationName\", key[4:-4], True)\n",
    "        dataset[key].columns = columnSet['weather']\n",
    "        dSet['weather'][key] = dataset[key]\n",
    "    elif key.startswith('Nafion-'):\n",
    "        dataset[key].insert(0, \"stationName\", key[7:-4], True)\n",
    "        dataset[key].columns = columnSet['pm']\n",
    "        dSet['Nafion'][key] = dataset[key]\n",
    "else:\n",
    "    dataset, dSet = dSet, dataset\n",
    "    logger('Data classification complete.')\n",
    "\n",
    "for key in dataset:\n",
    "    vars()['data_'+key] = pd.concat(list(dataset[key].values()), ignore_index=True)\n",
    "else:\n",
    "    logger('Data merged successfully.')"
   ]
  },
  {
   "cell_type": "code",
   "execution_count": 35,
   "metadata": {},
   "outputs": [
    {
     "output_type": "display_data",
     "data": {
      "text/plain": "HBox(children=(HTML(value=''), FloatProgress(value=1.0, bar_style='info', layout=Layout(width='20px'), max=1.0…",
      "application/vnd.jupyter.widget-view+json": {
       "version_major": 2,
       "version_minor": 0,
       "model_id": "ae989bb28b1145379430fa1c8a9f8329"
      }
     },
     "metadata": {}
    },
    {
     "output_type": "stream",
     "name": "stdout",
     "text": [
      "\n[2021-05-26 22:44:17.627798] data export complete.\n"
     ]
    }
   ],
   "source": [
    "os.chdir(originPath)\n",
    "\n",
    "if os.path.isdir('nifos_data'):\n",
    "    pass\n",
    "else:\n",
    "    os.makedirs('nifos_data')\n",
    "\n",
    "for dataFile, fileName in zip((data_AVOC, data_BVOC, data_Nafion, data_weather), ['AVOC', 'BVOC', 'Nafion', 'weather']):\n",
    "    dataFile.to_csv(f\"{originPath}/nifos_data/{fileName}.csv\")\n",
    "else:\n",
    "    logger('data export complete.')"
   ]
  }
 ]
}