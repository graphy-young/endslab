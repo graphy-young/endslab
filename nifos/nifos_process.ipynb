{
 "metadata": {
  "language_info": {
   "codemirror_mode": {
    "name": "ipython",
    "version": 3
   },
   "file_extension": ".py",
   "mimetype": "text/x-python",
   "name": "python",
   "nbconvert_exporter": "python",
   "pygments_lexer": "ipython3",
   "version": "3.8.5"
  },
  "orig_nbformat": 2,
  "kernelspec": {
   "name": "python385jvsc74a57bd03e25b9742b847ae2f6059319d2e224525c61c68c5b215d00f45fe9aaa5ae0482",
   "display_name": "Python 3.8.5 64-bit ('base': conda)"
  }
 },
 "nbformat": 4,
 "nbformat_minor": 2,
 "cells": [
  {
   "cell_type": "code",
   "execution_count": 5,
   "metadata": {},
   "outputs": [
    {
     "output_type": "stream",
     "name": "stdout",
     "text": [
      "[2021-06-02 09:43:50.832928] import & definition ends successfully.\n"
     ]
    }
   ],
   "source": [
    "import pandas as pd\n",
    "from sys import argv\n",
    "from datetime import datetime\n",
    "import os\n",
    "#from tqdm.notebook import tqdm\n",
    "#from tkinter.filedialog import askopenfilename\n",
    "\n",
    "def logger(*args):\n",
    "    \"\"\"\n",
    "        Print log message with excecuting file name, timestamp.\n",
    "        *** All parameters should be on string-type!\n",
    "    \"\"\"\n",
    "    try: __file__\n",
    "    except NameError:\n",
    "        message = f\"[{str(datetime.now())}] {str(' '.join(args))}\"\n",
    "    else:\n",
    "        message = f\"[{__file__} {str(datetime.now())}] {str(' '.join(args))}\"\n",
    "    print(message)\n",
    "\n",
    "logger(\"import & definition ends successfully.\")"
   ]
  },
  {
   "cell_type": "code",
   "execution_count": 6,
   "metadata": {
    "tags": []
   },
   "outputs": [
    {
     "output_type": "stream",
     "name": "stdout",
     "text": [
      "[2021-06-02 09:44:15.546640] Working directory changed to /Users/youngdae/Documents/미세먼지와 폭염 대응 그린쉘터 최적 이용망 분석 기술 개발3(국립산립과학원)/210526_측정망 DB 구축/측정넷자료/2020년자료\n",
      "[2021-06-02 09:44:15.978435] Working directory changed to /Users/youngdae/Documents/미세먼지와 폭염 대응 그린쉘터 최적 이용망 분석 기술 개발3(국립산립과학원)/210526_측정망 DB 구축/측정넷자료/2021년자료\n",
      "[2021-06-02 09:44:16.041913] Empty or wrong file [Nafion-태안_산단.csv] detected. jump to next file\n",
      "[2021-06-02 09:44:16.472014] Empty or wrong file [BVOC-태안_산단.csv] detected. jump to next file\n",
      "[2021-06-02 09:44:16.472571] Empty or wrong file [Met_태안_산단.csv] detected. jump to next file\n",
      "[2021-06-02 09:44:16.498797] Empty or wrong file [AVOC-태안_산단.csv] detected. jump to next file\n",
      "[2021-06-02 09:44:16.585258] Reading data from files complete.\n"
     ]
    }
   ],
   "source": [
    "originPath = globals()['_dh'][0]\n",
    "os.chdir(originPath)\n",
    "#currentPath = os.getcwd()\n",
    "targetFolderList = ['2020년자료', '2021년자료']\n",
    "dataset = dict()\n",
    "#dataset = {fName: {} for fName in targetFolderList}\n",
    "\n",
    "for folderName in targetFolderList:\n",
    "    targetDir = f\"{originPath}/{folderName}\"\n",
    "    os.chdir(targetDir)\n",
    "    logger(f'Working directory changed to {targetDir}')\n",
    "    fileList = os.listdir(targetDir)\n",
    "    for fileName in fileList:\n",
    "        if fileName in dataset:\n",
    "            dataset[fileName] = pd.concat([dataset[fileName], pd.read_csv(f\"{targetDir}/{fileName}\")], ignore_index=True)\n",
    "        else:\n",
    "            if fileName.endswith('.csv') and os.path.isfile(fileName):\n",
    "                try:\n",
    "                    df = pd.read_csv(fileName)\n",
    "                    if len(df) > 0: dataset[fileName] = df\n",
    "                    else: raise Exception\n",
    "                except:\n",
    "                    logger(f'Empty or wrong file [{fileName}] detected. jump to next file')\n",
    "            else: continue\n",
    "else:\n",
    "    logger('Reading data from files complete.')"
   ]
  },
  {
   "cell_type": "code",
   "execution_count": 7,
   "metadata": {},
   "outputs": [
    {
     "output_type": "stream",
     "name": "stdout",
     "text": [
      "[2021-06-02 09:44:29.515305] Data classification complete.\n[2021-06-02 09:44:29.605376] Data merged successfully.\n"
     ]
    }
   ],
   "source": [
    "columnSet = {'pm': ['stationName', 'measuredDatetime', 'PM10', 'PM25', 'PM1'],\n",
    "             'weather': ['stationName', 'measuredDatetime', 'temperature', 'RelativeHumidity', 'windSpeed', 'windDirection']}\n",
    "\n",
    "data_AVOC = pd.DataFrame(columns=columnSet['pm'])\n",
    "data_BVOC = pd.DataFrame(columns=columnSet['pm'])\n",
    "data_Nafion = pd.DataFrame(columns=columnSet['pm'])\n",
    "data_weather = pd.DataFrame(columns=columnSet['weather'])\n",
    "\n",
    "dSet = {'AVOC': {}, 'BVOC': {}, 'weather': {}, 'Nafion': {}}\n",
    "\n",
    "# stationName 추가 및 컬럼명 변경\n",
    "for key in dataset:\n",
    "    if key.startswith('AVOC-') or key.startswith('BVOC-'):\n",
    "        dataset[key].insert(0, \"stationName\", key[5:-4], True)\n",
    "        dataset[key].columns = columnSet['pm']\n",
    "        if key.startswith('AVOC-'): \n",
    "            dSet['AVOC'][key] = dataset[key]\n",
    "        else:\n",
    "            dSet['BVOC'][key] = dataset[key]\n",
    "    elif key.startswith('Met_'):\n",
    "        dataset[key].insert(0, \"stationName\", key[4:-4], True)\n",
    "        dataset[key].columns = columnSet['weather']\n",
    "        dSet['weather'][key] = dataset[key]\n",
    "    elif key.startswith('Nafion-'):\n",
    "        dataset[key].insert(0, \"stationName\", key[7:-4], True)\n",
    "        dataset[key].columns = columnSet['pm']\n",
    "        dSet['Nafion'][key] = dataset[key]\n",
    "else:\n",
    "    dataset, dSet = dSet, dataset\n",
    "    logger('Data classification complete.')\n",
    "\n",
    "for key in dataset:\n",
    "    vars()['data_'+key] = pd.concat(list(dataset[key].values()), ignore_index=True)\n",
    "else:\n",
    "    logger('Data merged successfully.')"
   ]
  },
  {
   "cell_type": "code",
   "execution_count": 8,
   "metadata": {},
   "outputs": [
    {
     "output_type": "stream",
     "name": "stdout",
     "text": [
      "[2021-06-02 09:44:39.658295] data export complete.\n"
     ]
    }
   ],
   "source": [
    "os.chdir(originPath)\n",
    "\n",
    "if os.path.isdir('nifos_data'):\n",
    "    pass\n",
    "else:\n",
    "    os.makedirs('nifos_data')\n",
    "\n",
    "for dataFile, fileName in zip((data_AVOC, data_BVOC, data_Nafion, data_weather), ['AVOC', 'BVOC', 'Nafion', 'weather']):\n",
    "    dataFile.to_csv(f\"{originPath}/nifos_data/{fileName}.csv\", index=False)\n",
    "else:\n",
    "    logger('data export complete.')"
   ]
  },
  {
   "source": [
    "# Insert data into DB"
   ],
   "cell_type": "markdown",
   "metadata": {}
  },
  {
   "cell_type": "code",
   "execution_count": 24,
   "metadata": {},
   "outputs": [
    {
     "output_type": "stream",
     "name": "stdout",
     "text": [
      "[2021-06-02 11:14:40.173557] Change working directory to /Users/youngdae/Documents/미세먼지와 폭염 대응 그린쉘터 최적 이용망 분석 기술 개발3(국립산립과학원)/210526_측정망 DB 구축/측정넷자료/nifos_data\n",
      "[2021-06-02 11:14:40.829340] 4 file(s) read successfully.\n"
     ]
    },
    {
     "output_type": "display_data",
     "data": {
      "text/plain": "{'BVOC.csv':        stationName     measuredDatetime       PM10       PM25        PM1\n 0          양재_300m  2020-01-14 16:00:00  14.332667   4.704500   4.359500\n 1          양재_300m  2020-01-14 17:00:00   6.797833   3.821167   3.584500\n 2          양재_300m  2020-01-14 18:00:00   5.791500   3.744667   3.676167\n 3          양재_300m  2020-01-14 19:00:00  10.353833   5.029167   4.564333\n 4          양재_300m  2020-01-14 20:00:00   6.658167   4.197333   4.096000\n ...            ...                  ...        ...        ...        ...\n 224685       광주_주거  2021-03-31 19:00:00  41.316667  20.500000  17.800000\n 224686       광주_주거  2021-03-31 20:00:00  42.716667  24.750000  21.900000\n 224687       광주_주거  2021-03-31 21:00:00  45.720000  27.050000  23.950000\n 224688       광주_주거  2021-03-31 22:00:00  49.966667  29.083333  24.840000\n 224689       광주_주거  2021-03-31 23:00:00  49.083333  33.883333  31.233333\n \n [224690 rows x 5 columns],\n 'Nafion.csv':        stationName     measuredDatetime       PM10       PM25        PM1\n 0           시화_차단숲  2020-01-01 00:00:00  25.783333  15.733333  13.733333\n 1           시화_차단숲  2020-01-01 01:00:00  26.366667  19.350000  17.100000\n 2           시화_차단숲  2020-01-01 02:00:00  18.416667  15.283333  13.816667\n 3           시화_차단숲  2020-01-01 03:00:00  21.983333  16.000000  14.650000\n 4           시화_차단숲  2020-01-01 04:00:00  21.783333  15.416667  13.983333\n ...            ...                  ...        ...        ...        ...\n 225057      횡성_30m  2021-03-31 19:00:00  46.866667  23.116667  14.166667\n 225058      횡성_30m  2021-03-31 20:00:00  45.366667  22.333333  13.116667\n 225059      횡성_30m  2021-03-31 21:00:00  41.050000  20.050000  11.800000\n 225060      횡성_30m  2021-03-31 22:00:00  39.433333  17.966667  10.466667\n 225061      횡성_30m  2021-03-31 23:00:00  34.750000  15.416667   8.733333\n \n [225062 rows x 5 columns],\n 'weather.csv':        stationName     measuredDatetime  temperature  RelativeHumidity  \\\n 0            시화_산단  2020-01-01 00:00:00    -5.034000         48.560167   \n 1            시화_산단  2020-01-01 01:00:00    -5.468667         55.185167   \n 2            시화_산단  2020-01-01 02:00:00    -5.282833         56.348000   \n 3            시화_산단  2020-01-01 03:00:00    -5.033833         56.726167   \n 4            시화_산단  2020-01-01 04:00:00    -4.663167         56.458833   \n ...            ...                  ...          ...               ...   \n 229076        광주_숲  2021-03-31 19:00:00    17.316667         32.833333   \n 229077        광주_숲  2021-03-31 20:00:00    16.333333         36.066667   \n 229078        광주_숲  2021-03-31 21:00:00    15.966667         39.033333   \n 229079        광주_숲  2021-03-31 22:00:00    14.460000         45.860000   \n 229080        광주_숲  2021-03-31 23:00:00    13.600000         49.616667   \n \n         windSpeed  windDirection  \n 0        0.757582     126.497070  \n 1        0.829688     145.883086  \n 2        0.780923     136.496379  \n 3        0.872071     136.814922  \n 4        0.940445     125.452766  \n ...           ...            ...  \n 229076   0.087934     298.255909  \n 229077   0.066645     350.974976  \n 229078   0.107219     284.893494  \n 229079   0.157591     337.274054  \n 229080   0.049857     344.863732  \n \n [229081 rows x 6 columns],\n 'AVOC.csv':        stationName     measuredDatetime       PM10       PM25        PM1\n 0            고매_도로  2020-01-01 00:00:00  23.533600  17.084800  15.328000\n 1            고매_도로  2020-01-01 01:00:00  24.219500  17.207667  15.527333\n 2            고매_도로  2020-01-01 02:00:00  22.621333  16.829833  15.238833\n 3            고매_도로  2020-01-01 03:00:00  21.032000  15.509333  14.081667\n 4            고매_도로  2020-01-01 04:00:00  19.319333  15.397333  14.115667\n ...            ...                  ...        ...        ...        ...\n 225060       광주_산단  2021-03-31 19:00:00  63.333333  20.766667   7.400000\n 225061       광주_산단  2021-03-31 20:00:00  62.166667  20.840000   8.160000\n 225062       광주_산단  2021-03-31 21:00:00  62.583333  23.700000  10.633333\n 225063       광주_산단  2021-03-31 22:00:00  62.700000  22.666667  10.400000\n 225064       광주_산단  2021-03-31 23:00:00  53.650000  21.416667   9.866667\n \n [225065 rows x 5 columns]}"
     },
     "metadata": {}
    }
   ],
   "source": [
    "import pymysql\n",
    "import tkinter\n",
    "from tkinter import filedialog\n",
    "from sqlalchemy import create_engine\n",
    "import keys\n",
    "\n",
    "def getDframeName(df):\n",
    "    name =[x for x in globals() if globals()[x] is df][0]\n",
    "    return name\n",
    "\n",
    "originPath = globals()['_dh'][0]\n",
    "\n",
    "filePicker = tkinter.Tk()\n",
    "filePicker.withdraw()\n",
    "dirPath = filedialog.askdirectory(parent=filePicker,initialdir=originPath,title='Please select a directory')\n",
    "os.chdir(dirPath)\n",
    "logger(f\"Change working directory to {dirPath}\")\n",
    "\n",
    "fileList = [fileName for fileName in os.listdir() if fileName.endswith('.csv')]\n",
    "dataset = dict()\n",
    "\n",
    "for fileName in fileList:\n",
    "    dataset[fileName] = pd.read_csv(fileName, encoding='utf-8')\n",
    "else: \n",
    "    logger(f'{len(fileList)} file(s) read successfully.')\n",
    "    display(dataset)"
   ]
  },
  {
   "cell_type": "code",
   "execution_count": 25,
   "metadata": {},
   "outputs": [
    {
     "output_type": "stream",
     "name": "stdout",
     "text": [
      "[2021-06-02 11:14:45.527984] DB connection established.\n",
      "/Users/youngdae/anaconda3/lib/python3.8/site-packages/pandas/io/sql.py:1423: UserWarning: The provided table name 'BVOC.csv' is not found exactly as such in the database after writing the table, possibly due to case sensitivity issues. Consider using lower case table names.\n",
      "  warnings.warn(msg, UserWarning)\n",
      "/Users/youngdae/anaconda3/lib/python3.8/site-packages/pandas/io/sql.py:1423: UserWarning: The provided table name 'Nafion.csv' is not found exactly as such in the database after writing the table, possibly due to case sensitivity issues. Consider using lower case table names.\n",
      "  warnings.warn(msg, UserWarning)\n",
      "[2021-06-02 11:15:25.232145] Insert done!\n",
      "/Users/youngdae/anaconda3/lib/python3.8/site-packages/pandas/io/sql.py:1423: UserWarning: The provided table name 'AVOC.csv' is not found exactly as such in the database after writing the table, possibly due to case sensitivity issues. Consider using lower case table names.\n",
      "  warnings.warn(msg, UserWarning)\n"
     ]
    }
   ],
   "source": [
    "def connectDB():\n",
    "    \"\"\"\n",
    "       Connect to MySQL database server, returning connection & cursor objects. \n",
    "    \"\"\"\n",
    "    try:\n",
    "        connection = pymysql.connect(host=keys.HOST, port=keys.PORT, \n",
    "                                    user=keys.USERNAME, password=keys.PASSWORD, \n",
    "                                    database=keys.DBNAME)\n",
    "        cursor = connection.cursor()\n",
    "        logger('DB connection Established.')\n",
    "        return connection, cursor\n",
    "    except Exception as e:\n",
    "        msg = f'DB connection failed! ERROR: {str(e)}'\n",
    "        logger(msg)\n",
    "\n",
    "try:\n",
    "    connection = pymysql.connect()\n",
    "    cursor = connection.cursor()\n",
    "    logger('DB connection established.')\n",
    "except Exception as e:\n",
    "    logger(f'ERROR occured while connecting to DB server. \\n EXCEPTION) {str(e)}')\n",
    "    connection.close()\n",
    "\n",
    "engine = create_engine(f'mysql+pymysql://{keys.USERNAME}:{keys.PASSWORD}@{keys.HOST}/{keys.DBNAME}')\n",
    "\n",
    "for dataframe in dataset:\n",
    "    dataset[dataframe].to_sql(name=dataframe, con=engine, if_exists='replace', index=False)\n",
    "else: \n",
    "    connection.close()\n",
    "    logger('Insert done!')"
   ]
  }
 ]
}